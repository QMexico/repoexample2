{
 "cells": [
  {
   "cell_type": "markdown",
   "id": "3d8721f1",
   "metadata": {},
   "source": [
    "Esto es algún texto de ejemplo\n",
    "\n",
    "Con un poco de $\\LaTeX$\n",
    "\n",
    "\n",
    "$$i\\hbar {\\frac {\\partial }{\\partial t}}\\Psi (x,t)=\\left[-{\\frac {\\hbar ^{2}}{2m}}{\\frac {\\partial ^{2}}{\\partial x^{2}}}+V(x,t)\\right]\\Psi (x,t)$$\n"
   ]
  },
  {
   "cell_type": "code",
   "execution_count": 1,
   "id": "7e785387",
   "metadata": {},
   "outputs": [
    {
     "name": "stdout",
     "output_type": "stream",
     "text": [
      "The version of Qiskit is 0.26.2\n",
      "\n",
      "The version of each component:\n",
      "qiskit-terra -> 0.17.4\n",
      "qiskit-aer -> 0.8.2\n",
      "qiskit-ignis -> 0.6.0\n",
      "qiskit-ibmq-provider -> 0.13.1\n",
      "qiskit-aqua -> 0.9.1\n",
      "qiskit -> 0.26.2\n",
      "qiskit-nature -> 0.1.3\n",
      "qiskit-finance -> None\n",
      "qiskit-optimization -> 0.1.0\n",
      "qiskit-machine-learning -> None\n"
     ]
    }
   ],
   "source": [
    "import qiskit\n",
    "versions = qiskit.__qiskit_version__\n",
    "print(\"The version of Qiskit is\",versions['qiskit'])\n",
    "print()\n",
    "print(\"The version of each component:\")\n",
    "for key in versions:\n",
    "    print(key,\"->\",versions[key])"
   ]
  },
  {
   "cell_type": "markdown",
   "id": "c5645d72",
   "metadata": {},
   "source": [
    "Más explicación sobre temas de circuitos cuánticos ...\n",
    "\n",
    "Lorem ipsum dolor sit amet, consectetur adipiscing elit. Cras convallis, orci nec dapibus egestas, nunc neque pharetra mauris, quis efficitur justo tortor nec urna. Suspendisse sollicitudin felis magna. Vestibulum consequat lacinia iaculis. Nunc ac nunc sagittis, faucibus sapien non, venenatis nisi. Nulla vel mi mauris. Aenean sit amet eros id leo dictum fringilla vel ut tortor. Suspendisse a commodo metus. Ut nisl neque, lobortis at erat ac, tempor porta ex."
   ]
  },
  {
   "cell_type": "code",
   "execution_count": 2,
   "id": "64dc41d5",
   "metadata": {},
   "outputs": [
    {
     "data": {
      "image/png": "[encoded data removed]",
      "text/plain": [
       "<Figure size 327.252x204.68 with 1 Axes>"
      ]
     },
     "execution_count": 2,
     "metadata": {},
     "output_type": "execute_result"
    }
   ],
   "source": [
    "from qiskit import QuantumRegister, ClassicalRegister, QuantumCircuit, execute, Aer\n",
    "from random import randrange\n",
    "\n",
    "circuit = QuantumCircuit(2, 2) #$ se crea el circuito\n",
    "\n",
    "circuit.h(0)\n",
    "\n",
    "circuit.x(1)\n",
    "\n",
    "circuit.cx(0, 1)\n",
    "\n",
    "circuit.measure([0, 1],[0, 1])\n",
    "\n",
    "\n",
    "circuit.draw(output='mpl')"
   ]
  },
  {
   "cell_type": "code",
   "execution_count": null,
   "id": "475b6dae",
   "metadata": {},
   "outputs": [],
   "source": []
  }
 ],
 "metadata": {
  "kernelspec": {
   "display_name": "Python 3",
   "language": "python",
   "name": "python3"
  },
  "language_info": {
   "codemirror_mode": {
    "name": "ipython",
    "version": 3
   },
   "file_extension": ".py",
   "mimetype": "text/x-python",
   "name": "python",
   "nbconvert_exporter": "python",
   "pygments_lexer": "ipython3",
   "version": "3.9.5"
  }
 },
 "nbformat": 4,
 "nbformat_minor": 5
}
